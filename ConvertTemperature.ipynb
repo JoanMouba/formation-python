{
  "nbformat": 4,
  "nbformat_minor": 0,
  "metadata": {
    "colab": {
      "name": "ConvertTemperature.ipynb",
      "provenance": [],
      "collapsed_sections": [],
      "authorship_tag": "ABX9TyP01v8eesQFd6pips/E6tZb",
      "include_colab_link": true
    },
    "kernelspec": {
      "name": "python3",
      "display_name": "Python 3"
    },
    "language_info": {
      "name": "python"
    }
  },
  "cells": [
    {
      "cell_type": "markdown",
      "metadata": {
        "id": "view-in-github",
        "colab_type": "text"
      },
      "source": [
        "<a href=\"https://colab.research.google.com/github/JoanMouba/formation-python/blob/main/ConvertTemperature.ipynb\" target=\"_parent\"><img src=\"https://colab.research.google.com/assets/colab-badge.svg\" alt=\"Open In Colab\"/></a>"
      ]
    },
    {
      "cell_type": "markdown",
      "metadata": {
        "id": "Lvdn2Pj9hmg8"
      },
      "source": [
        "# Formation Apprendre Python\n",
        "###### Convert temperature between degre and fahrenheit\n",
        "###### @uthor: Joan Mouba\n",
        "###### Copyright: Epignosis Center  \n",
        "Ressources: [Wikipedia - Fahrenheit](https://fr.wikipedia.org/wiki/Degr%C3%A9_Fahrenheit)"
      ]
    },
    {
      "cell_type": "code",
      "metadata": {
        "id": "7agU6lbnXlJX"
      },
      "source": [
        "def celsius_to_fahrenheit(celsius : float) -> float:\n",
        "  \"\"\" Convert temperature from celcius to fahrenheit \"\"\"\n",
        "  return 9/5 * celcius + 32"
      ],
      "execution_count": 5,
      "outputs": []
    },
    {
      "cell_type": "code",
      "metadata": {
        "id": "vuAUS2FgiuyW"
      },
      "source": [
        ""
      ],
      "execution_count": null,
      "outputs": []
    }
  ]
}